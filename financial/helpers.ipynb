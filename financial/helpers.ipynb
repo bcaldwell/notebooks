{
 "cells": [
  {
   "cell_type": "code",
   "execution_count": 9,
   "metadata": {},
   "outputs": [],
   "source": [
    "# 1.45% for medicare\n",
    "# Social Security tax rate of 6.2% and the Medicare tax rate of 1.45%, will be 7.65% for 2019\n",
    "def estimateTax(taxBracket, income, standardDeduction = 0):\n",
    "#     standardDeduction = 0\n",
    "    income -= standardDeduction\n",
    "    tax = 0\n",
    "    keys = sorted(taxBracket.keys())\n",
    "    for i, key in enumerate(keys):\n",
    "        if i == len(keys) - 1:\n",
    "            bracket = {\n",
    "                \"low\": key,\n",
    "                \"high\": float(\"inf\"),\n",
    "                \"rate\": taxBracket[key]\n",
    "            }\n",
    "        else:\n",
    "            bracket = {\n",
    "                \"low\": key,\n",
    "                \"high\": keys[i+1] - 1,\n",
    "                \"rate\": taxBracket[key]\n",
    "            }\n",
    "        if income < bracket[\"low\"]: break\n",
    "        tax += (min(income, bracket[\"high\"]) - bracket[\"low\"]) * (bracket[\"rate\"]/100)\n",
    "    return tax\n",
    "\n",
    "# this is before 401k deduction\n",
    "def calculateFica(income):\n",
    "    return min(income, 132900) * 0.062 + income * 0.0145\n",
    "\n",
    "def estimateUSTax(income):\n",
    "    taxBracket = {\n",
    "        0: 10,\n",
    "        9701: 12,\n",
    "        39476: 22,\n",
    "        84201: 24,\n",
    "        160726: 32,\n",
    "        204101: 35,\n",
    "        510301: 37\n",
    "    }\n",
    "    return estimateTax(taxBracket, income, 12200)\n",
    "\n",
    "def estimateCaliTax(income):\n",
    "    taxBracket = {\n",
    "        0: 1,\n",
    "        8544: 2,\n",
    "        20255: 3,\n",
    "        31969: 4,\n",
    "        44377: 8,\n",
    "        56085: 9.3,\n",
    "        286492: 10.3,\n",
    "        330884.00: 11.3,\n",
    "        551473.00: 12.3,\n",
    "        1000000.00: 13.3,\n",
    "    }\n",
    "    return estimateTax(taxBracket, income, 4401)\n",
    "\n",
    "def estimateCompleteCaliTax(income):\n",
    "    return estimateCaliTax(income) + estimateUSTax(income) + calculateFica(income)\n"
   ]
  },
  {
   "cell_type": "code",
   "execution_count": 13,
   "metadata": {},
   "outputs": [],
   "source": [
    "from subprocess import run, PIPE\n",
    "import json\n",
    "\n",
    "def getSecret(name):\n",
    "    file = open(\"/run/secrets/ejson/key\", \"r\") \n",
    "    key = file.read()\n",
    "\n",
    "    p = run(['ejson', 'decrypt', '--key-from-stdin', '/home/bcaldwell/secrets.ejson'], stdout=PIPE, stderr=PIPE,\n",
    "        input=key, encoding='ascii')\n",
    "    secrets = json.loads(p.stdout)\n",
    "    return secrets[name]"
   ]
  },
  {
   "cell_type": "code",
   "execution_count": 59,
   "metadata": {},
   "outputs": [],
   "source": [
    "def connectToPostgres(dbname = \"ynab\"):\n",
    "    password = getSecret(\"postgres-password\")\n",
    "\n",
    "    from sqlalchemy import create_engine\n",
    "    connectionString = 'postgresql://{}:{}@{}/{}'.format(\"selfops\", password, 'postgres.postgres', dbname)\n",
    "    engine = create_engine(connectionString)\n",
    "    return engine"
   ]
  },
  {
   "cell_type": "code",
   "execution_count": 8,
   "metadata": {},
   "outputs": [],
   "source": [
    "def connectToInflux(dbname = \"ynab\"):\n",
    "    from influxdb import DataFrameClient\n",
    "    client = DataFrameClient(\"influxdb.influxdb\", 8086, '', '', dbname)"
   ]
  },
  {
   "cell_type": "code",
   "execution_count": 11,
   "metadata": {},
   "outputs": [],
   "source": [
    "import pandas as pd\n",
    "\n",
    "def printDictAsTable(dic):\n",
    "    df = pd.DataFrame.from_dict(dic, orient='index', columns=[\"\"])\n",
    "    display(df)"
   ]
  },
  {
   "cell_type": "code",
   "execution_count": null,
   "metadata": {},
   "outputs": [],
   "source": []
  }
 ],
 "metadata": {
  "kernelspec": {
   "display_name": "Python 3",
   "language": "python",
   "name": "python3"
  },
  "language_info": {
   "codemirror_mode": {
    "name": "ipython",
    "version": 3
   },
   "file_extension": ".py",
   "mimetype": "text/x-python",
   "name": "python",
   "nbconvert_exporter": "python",
   "pygments_lexer": "ipython3",
   "version": "3.6.7"
  }
 },
 "nbformat": 4,
 "nbformat_minor": 2
}
