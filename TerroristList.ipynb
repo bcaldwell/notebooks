{
 "cells": [
  {
   "cell_type": "code",
   "execution_count": 1,
   "metadata": {
    "collapsed": false
   },
   "outputs": [],
   "source": [
    "import pandas as pd\n",
    "import string\n",
    "\n",
    "URL = 'http://www.treasury.gov/ofac/downloads/sdn.csv'\n",
    "\n",
    "NULL = '-0-'\n",
    "\n",
    "COLS = [\n",
    "    \"ent_num\",\n",
    "    \"SDN_Name\",\n",
    "    \"SDN_Type\",\n",
    "    \"Program\",\n",
    "    \"Title\",\n",
    "    \"Call_Sign\",\n",
    "    \"Vess_type\",\n",
    "    \"Tonnage\",\n",
    "    \"GRT\",\n",
    "    \"Vess_flag\",\n",
    "    \"Vess_owner\",\n",
    "    \"remarks\",\n",
    "]\n",
    "\n",
    "def retrieve_sdn_list():\n",
    "    df = pd.read_csv(URL, names=COLS)\n",
    "    df = filter_individuals(df)\n",
    "    df['full_name'] = df['SDN_Name'].map(format_name)\n",
    "    return df\n",
    "\n",
    "def filter_individuals(df):\n",
    "    return df.ix[df['SDN_Type'] == 'individual']\n",
    "\n",
    "def format_name(last_name_first_name):\n",
    "    try:\n",
    "        last_name, first_name = last_name_first_name.split(', ', 1)\n",
    "        return \"%s %s\"%(first_name.lower(), last_name.lower())\n",
    "    except:\n",
    "        return last_name_first_name.lower()\n",
    "\n",
    "def retrieve_and_save_to_csv(filename='individual_terrorists.csv'):\n",
    "    df = retrieve_sdn_list()\n",
    "    return df.to_csv(filename, index=False)\n",
    "\n",
    "\n",
    "def retrieve_shop_account_owners_rdd(sc):\n",
    "    return sc.jsonFile('/data/frontroom/dimensions/shop_dimension/{{latest}}')\\\n",
    "             .map(lambda r: r.keep(\"Shop Account Owner Name\", \"Shop ID\", \"Shop Country\"))\\\n",
    "             .map(lambda r: r.set(\"Shop Account Owner Name\", r[\"Shop Account Owner Name\"].lower()))\n",
    "\n",
    "\n",
    "def run(sc):\n",
    "    df = retrieve_sdn_list()\n",
    "    terrorist_list = list(df['full_name'])\n",
    "    account_owners_rdd = retrieve_shop_account_owners_rdd(sc)\n",
    "    results = account_owners_rdd.filter(lambda r: r[\"Shop Account Owner Name\"] in terrorist_list)\n",
    "    return map( lambda r: r[1][1].as_dict(), results)\n",
    "\n",
    "\n",
    "\n",
    "\n"
   ]
  },
  {
   "cell_type": "code",
   "execution_count": null,
   "metadata": {
    "collapsed": false
   },
   "outputs": [],
   "source": [
    "results = run(sc)"
   ]
  },
  {
   "cell_type": "code",
   "execution_count": 3,
   "metadata": {
    "collapsed": false
   },
   "outputs": [
    {
     "name": "stderr",
     "output_type": "stream",
     "text": [
      "1840.013: [GC [PSYoungGen: 142172K->10760K(140288K)] 142276K->10872K(489984K), 0.0180890 secs] [Times: user=0.30 sys=0.00, real=0.01 secs] \n",
      "2436.492: [GC [PSYoungGen: 139784K->8592K(149504K)] 139896K->8712K(499200K), 0.0124640 secs] [Times: user=0.11 sys=0.00, real=0.01 secs] \n"
     ]
    },
    {
     "ename": "NameError",
     "evalue": "name 'results' is not defined",
     "output_type": "error",
     "traceback": [
      "\u001b[1;31m---------------------------------------------------------------------------\u001b[0m\n\u001b[1;31mNameError\u001b[0m                                 Traceback (most recent call last)",
      "\u001b[1;32m<ipython-input-3-980bffe1404d>\u001b[0m in \u001b[0;36m<module>\u001b[1;34m()\u001b[0m\n\u001b[1;32m----> 1\u001b[1;33m \u001b[0mresults\u001b[0m\u001b[1;33m\u001b[0m\u001b[0m\n\u001b[0m",
      "\u001b[1;31mNameError\u001b[0m: name 'results' is not defined"
     ]
    }
   ],
   "source": [
    "results"
   ]
  },
  {
   "cell_type": "code",
   "execution_count": null,
   "metadata": {
    "collapsed": false
   },
   "outputs": [],
   "source": []
  }
 ],
 "metadata": {
  "kernelspec": {
   "display_name": "Python 2",
   "language": "python",
   "name": "python2"
  },
  "language_info": {
   "codemirror_mode": {
    "name": "ipython",
    "version": 2
   },
   "file_extension": ".py",
   "mimetype": "text/x-python",
   "name": "python",
   "nbconvert_exporter": "python",
   "pygments_lexer": "ipython2",
   "version": "2.7.6"
  }
 },
 "nbformat": 4,
 "nbformat_minor": 0
}
